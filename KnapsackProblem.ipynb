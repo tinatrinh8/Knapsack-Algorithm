{
  "cells": [
    {
      "cell_type": "markdown",
      "metadata": {
        "id": "view-in-github",
        "colab_type": "text"
      },
      "source": [
        "<a href=\"https://colab.research.google.com/github/tinatrinh8/Knapsack-Algorithm/blob/main/KnapsackProblem.ipynb\" target=\"_parent\"><img src=\"https://colab.research.google.com/assets/colab-badge.svg\" alt=\"Open In Colab\"/></a>"
      ]
    },
    {
      "cell_type": "markdown",
      "metadata": {
        "id": "SPeulvp-meob"
      },
      "source": [
        "**ASSIGNMENT 1 - EMPIRICAL STUDY OF KNAPSACK PROBLEM**"
      ]
    },
    {
      "cell_type": "markdown",
      "metadata": {
        "id": "f2Eeke4Z_EkW"
      },
      "source": [
        "**1. Group Description**\n",
        "\n",
        "Group Number: 88;\n",
        "Member Names: Chentao Jin, Tina Trinh;\n",
        "Member Student Numbers: 300220076, 300175427;"
      ]
    },
    {
      "cell_type": "markdown",
      "metadata": {
        "id": "Yq6OGiMX_da0"
      },
      "source": [
        "**2. Knapsack Problem**\n",
        "\n",
        "Find the solution to pack articles(with weight) with highest total price to a ksapnack with limited capcity"
      ]
    },
    {
      "cell_type": "markdown",
      "metadata": {
        "id": "C8vwHE0G_iOG"
      },
      "source": [
        "**3. Dataset**\n",
        "\n",
        "10000 cases, each case includes 5 articles with price and weight, ksapnack capacity, best pick solution and best total price"
      ]
    },
    {
      "cell_type": "markdown",
      "metadata": {
        "id": "OZTWy1qN2BzY"
      },
      "source": [
        "**Import important libraries**"
      ]
    },
    {
      "cell_type": "code",
      "execution_count": null,
      "metadata": {
        "id": "GmP1buROhaOx"
      },
      "outputs": [],
      "source": [
        "import pandas as pd\n",
        "import itertools\n",
        "import numpy as np\n",
        "import matplotlib.pyplot as plt"
      ]
    },
    {
      "cell_type": "markdown",
      "metadata": {
        "id": "wNJyoeCz00Kr"
      },
      "source": [
        "**Read Dataset**\n",
        "\n",
        "As outlined in the project description, it should be possible for the correctors to execute your notebook without requiring any downloads.\n",
        "\n",
        "To facilitate access to the dataset without the need for downloads, you can upload it to a public GitHub repository and provide a link to the raw version of the dataset.\n",
        "\n",
        "The link to the raw version is as follows:\n",
        "*https://raw.githubusercontent.com/GITHUB_USERNAME/REPOSITORY_NAME/main/DATASETNAME.csv*\n",
        "\n",
        "For example:\n",
        "\n",
        "https://raw.githubusercontent.com/baharin/KnapsackProblem/main/knapsack_5_items.csv\n",
        "\n",
        "Now provide the link to YOUR dataset and read the dataset using pandas:"
      ]
    },
    {
      "cell_type": "code",
      "execution_count": null,
      "metadata": {
        "id": "BrhpM-HwhaOy"
      },
      "outputs": [],
      "source": [
        "url = \"https://raw.githubusercontent.com/SuperChentao/CSI4106_Assignment1/main/knapsack_5_items.csv\"\n",
        "\n",
        "dataset = pd.read_csv(url)"
      ]
    },
    {
      "cell_type": "markdown",
      "metadata": {
        "id": "4Drc71BY2a7w"
      },
      "source": [
        "Let's see what are the columns of the dataset? :"
      ]
    },
    {
      "cell_type": "code",
      "execution_count": null,
      "metadata": {
        "colab": {
          "base_uri": "https://localhost:8080/"
        },
        "id": "pGxZXmhNhaOz",
        "outputId": "7ae0d5d0-d40d-40bb-c7c8-b50fa2f29d9e"
      },
      "outputs": [
        {
          "output_type": "execute_result",
          "data": {
            "text/plain": [
              "Index(['Weights', 'Prices', 'Capacity', 'Best picks', 'Best price'], dtype='object')"
            ]
          },
          "metadata": {},
          "execution_count": 3
        }
      ],
      "source": [
        "dataset.columns"
      ]
    },
    {
      "cell_type": "markdown",
      "metadata": {
        "id": "aNZaqcCT2w-T"
      },
      "source": [
        "As we expected, we have columns for weights, costs, capacity, best picks and best price for all the instances."
      ]
    },
    {
      "cell_type": "markdown",
      "metadata": {
        "id": "jkokOHRj2kgZ"
      },
      "source": [
        "Now let's see the first 10 entries (rows):"
      ]
    },
    {
      "cell_type": "code",
      "execution_count": null,
      "metadata": {
        "colab": {
          "base_uri": "https://localhost:8080/",
          "height": 362
        },
        "id": "0xqfPrBEhaOz",
        "outputId": "075d8466-c90c-4284-bb0c-c82f60775773"
      },
      "outputs": [
        {
          "output_type": "execute_result",
          "data": {
            "text/plain": [
              "            Weights            Prices  Capacity        Best picks  Best price\n",
              "0  [46 40 42 38 10]  [12 19 19 15  8]        40  [0. 1. 0. 0. 0.]        19.0\n",
              "1  [11 31  4  6  7]  [ 2  8 18 16  3]        64  [1. 1. 1. 1. 1.]        47.0\n",
              "2  [32 49 27 37 24]  [19 16 16  4  1]        87  [1. 0. 1. 0. 1.]        36.0\n",
              "3  [20 35 22 23 16]  [19 17 19  9  1]        21  [1. 0. 0. 0. 0.]        19.0\n",
              "4  [ 7 12 19 13 20]  [10 11 18 15  5]        50  [0. 1. 1. 1. 0.]        44.0\n",
              "5  [27 10 25 25  7]  [13 19  7 16  3]        66  [1. 1. 0. 1. 0.]        48.0\n",
              "6  [21  2 33 45 26]  [ 1 14 10  6 13]        80  [0. 1. 1. 0. 1.]        37.0\n",
              "7  [37 27 39 14 25]  [18  7 15  4 13]        35  [0. 0. 0. 0. 1.]        13.0\n",
              "8  [ 1 48  4 23 39]  [ 9  4 10 16 12]        51  [1. 0. 1. 1. 0.]        35.0\n",
              "9  [ 4  3 22  9 32]  [14  6  3 17  8]        53  [1. 1. 0. 1. 1.]        45.0"
            ],
            "text/html": [
              "\n",
              "  <div id=\"df-cb38559a-6a12-4b5c-83ea-61c1386d007f\" class=\"colab-df-container\">\n",
              "    <div>\n",
              "<style scoped>\n",
              "    .dataframe tbody tr th:only-of-type {\n",
              "        vertical-align: middle;\n",
              "    }\n",
              "\n",
              "    .dataframe tbody tr th {\n",
              "        vertical-align: top;\n",
              "    }\n",
              "\n",
              "    .dataframe thead th {\n",
              "        text-align: right;\n",
              "    }\n",
              "</style>\n",
              "<table border=\"1\" class=\"dataframe\">\n",
              "  <thead>\n",
              "    <tr style=\"text-align: right;\">\n",
              "      <th></th>\n",
              "      <th>Weights</th>\n",
              "      <th>Prices</th>\n",
              "      <th>Capacity</th>\n",
              "      <th>Best picks</th>\n",
              "      <th>Best price</th>\n",
              "    </tr>\n",
              "  </thead>\n",
              "  <tbody>\n",
              "    <tr>\n",
              "      <th>0</th>\n",
              "      <td>[46 40 42 38 10]</td>\n",
              "      <td>[12 19 19 15  8]</td>\n",
              "      <td>40</td>\n",
              "      <td>[0. 1. 0. 0. 0.]</td>\n",
              "      <td>19.0</td>\n",
              "    </tr>\n",
              "    <tr>\n",
              "      <th>1</th>\n",
              "      <td>[11 31  4  6  7]</td>\n",
              "      <td>[ 2  8 18 16  3]</td>\n",
              "      <td>64</td>\n",
              "      <td>[1. 1. 1. 1. 1.]</td>\n",
              "      <td>47.0</td>\n",
              "    </tr>\n",
              "    <tr>\n",
              "      <th>2</th>\n",
              "      <td>[32 49 27 37 24]</td>\n",
              "      <td>[19 16 16  4  1]</td>\n",
              "      <td>87</td>\n",
              "      <td>[1. 0. 1. 0. 1.]</td>\n",
              "      <td>36.0</td>\n",
              "    </tr>\n",
              "    <tr>\n",
              "      <th>3</th>\n",
              "      <td>[20 35 22 23 16]</td>\n",
              "      <td>[19 17 19  9  1]</td>\n",
              "      <td>21</td>\n",
              "      <td>[1. 0. 0. 0. 0.]</td>\n",
              "      <td>19.0</td>\n",
              "    </tr>\n",
              "    <tr>\n",
              "      <th>4</th>\n",
              "      <td>[ 7 12 19 13 20]</td>\n",
              "      <td>[10 11 18 15  5]</td>\n",
              "      <td>50</td>\n",
              "      <td>[0. 1. 1. 1. 0.]</td>\n",
              "      <td>44.0</td>\n",
              "    </tr>\n",
              "    <tr>\n",
              "      <th>5</th>\n",
              "      <td>[27 10 25 25  7]</td>\n",
              "      <td>[13 19  7 16  3]</td>\n",
              "      <td>66</td>\n",
              "      <td>[1. 1. 0. 1. 0.]</td>\n",
              "      <td>48.0</td>\n",
              "    </tr>\n",
              "    <tr>\n",
              "      <th>6</th>\n",
              "      <td>[21  2 33 45 26]</td>\n",
              "      <td>[ 1 14 10  6 13]</td>\n",
              "      <td>80</td>\n",
              "      <td>[0. 1. 1. 0. 1.]</td>\n",
              "      <td>37.0</td>\n",
              "    </tr>\n",
              "    <tr>\n",
              "      <th>7</th>\n",
              "      <td>[37 27 39 14 25]</td>\n",
              "      <td>[18  7 15  4 13]</td>\n",
              "      <td>35</td>\n",
              "      <td>[0. 0. 0. 0. 1.]</td>\n",
              "      <td>13.0</td>\n",
              "    </tr>\n",
              "    <tr>\n",
              "      <th>8</th>\n",
              "      <td>[ 1 48  4 23 39]</td>\n",
              "      <td>[ 9  4 10 16 12]</td>\n",
              "      <td>51</td>\n",
              "      <td>[1. 0. 1. 1. 0.]</td>\n",
              "      <td>35.0</td>\n",
              "    </tr>\n",
              "    <tr>\n",
              "      <th>9</th>\n",
              "      <td>[ 4  3 22  9 32]</td>\n",
              "      <td>[14  6  3 17  8]</td>\n",
              "      <td>53</td>\n",
              "      <td>[1. 1. 0. 1. 1.]</td>\n",
              "      <td>45.0</td>\n",
              "    </tr>\n",
              "  </tbody>\n",
              "</table>\n",
              "</div>\n",
              "    <div class=\"colab-df-buttons\">\n",
              "\n",
              "  <div class=\"colab-df-container\">\n",
              "    <button class=\"colab-df-convert\" onclick=\"convertToInteractive('df-cb38559a-6a12-4b5c-83ea-61c1386d007f')\"\n",
              "            title=\"Convert this dataframe to an interactive table.\"\n",
              "            style=\"display:none;\">\n",
              "\n",
              "  <svg xmlns=\"http://www.w3.org/2000/svg\" height=\"24px\" viewBox=\"0 -960 960 960\">\n",
              "    <path d=\"M120-120v-720h720v720H120Zm60-500h600v-160H180v160Zm220 220h160v-160H400v160Zm0 220h160v-160H400v160ZM180-400h160v-160H180v160Zm440 0h160v-160H620v160ZM180-180h160v-160H180v160Zm440 0h160v-160H620v160Z\"/>\n",
              "  </svg>\n",
              "    </button>\n",
              "\n",
              "  <style>\n",
              "    .colab-df-container {\n",
              "      display:flex;\n",
              "      gap: 12px;\n",
              "    }\n",
              "\n",
              "    .colab-df-convert {\n",
              "      background-color: #E8F0FE;\n",
              "      border: none;\n",
              "      border-radius: 50%;\n",
              "      cursor: pointer;\n",
              "      display: none;\n",
              "      fill: #1967D2;\n",
              "      height: 32px;\n",
              "      padding: 0 0 0 0;\n",
              "      width: 32px;\n",
              "    }\n",
              "\n",
              "    .colab-df-convert:hover {\n",
              "      background-color: #E2EBFA;\n",
              "      box-shadow: 0px 1px 2px rgba(60, 64, 67, 0.3), 0px 1px 3px 1px rgba(60, 64, 67, 0.15);\n",
              "      fill: #174EA6;\n",
              "    }\n",
              "\n",
              "    .colab-df-buttons div {\n",
              "      margin-bottom: 4px;\n",
              "    }\n",
              "\n",
              "    [theme=dark] .colab-df-convert {\n",
              "      background-color: #3B4455;\n",
              "      fill: #D2E3FC;\n",
              "    }\n",
              "\n",
              "    [theme=dark] .colab-df-convert:hover {\n",
              "      background-color: #434B5C;\n",
              "      box-shadow: 0px 1px 3px 1px rgba(0, 0, 0, 0.15);\n",
              "      filter: drop-shadow(0px 1px 2px rgba(0, 0, 0, 0.3));\n",
              "      fill: #FFFFFF;\n",
              "    }\n",
              "  </style>\n",
              "\n",
              "    <script>\n",
              "      const buttonEl =\n",
              "        document.querySelector('#df-cb38559a-6a12-4b5c-83ea-61c1386d007f button.colab-df-convert');\n",
              "      buttonEl.style.display =\n",
              "        google.colab.kernel.accessAllowed ? 'block' : 'none';\n",
              "\n",
              "      async function convertToInteractive(key) {\n",
              "        const element = document.querySelector('#df-cb38559a-6a12-4b5c-83ea-61c1386d007f');\n",
              "        const dataTable =\n",
              "          await google.colab.kernel.invokeFunction('convertToInteractive',\n",
              "                                                    [key], {});\n",
              "        if (!dataTable) return;\n",
              "\n",
              "        const docLinkHtml = 'Like what you see? Visit the ' +\n",
              "          '<a target=\"_blank\" href=https://colab.research.google.com/notebooks/data_table.ipynb>data table notebook</a>'\n",
              "          + ' to learn more about interactive tables.';\n",
              "        element.innerHTML = '';\n",
              "        dataTable['output_type'] = 'display_data';\n",
              "        await google.colab.output.renderOutput(dataTable, element);\n",
              "        const docLink = document.createElement('div');\n",
              "        docLink.innerHTML = docLinkHtml;\n",
              "        element.appendChild(docLink);\n",
              "      }\n",
              "    </script>\n",
              "  </div>\n",
              "\n",
              "\n",
              "<div id=\"df-40f88466-46d2-4bd8-b9f3-6e9c1dd67186\">\n",
              "  <button class=\"colab-df-quickchart\" onclick=\"quickchart('df-40f88466-46d2-4bd8-b9f3-6e9c1dd67186')\"\n",
              "            title=\"Suggest charts.\"\n",
              "            style=\"display:none;\">\n",
              "\n",
              "<svg xmlns=\"http://www.w3.org/2000/svg\" height=\"24px\"viewBox=\"0 0 24 24\"\n",
              "     width=\"24px\">\n",
              "    <g>\n",
              "        <path d=\"M19 3H5c-1.1 0-2 .9-2 2v14c0 1.1.9 2 2 2h14c1.1 0 2-.9 2-2V5c0-1.1-.9-2-2-2zM9 17H7v-7h2v7zm4 0h-2V7h2v10zm4 0h-2v-4h2v4z\"/>\n",
              "    </g>\n",
              "</svg>\n",
              "  </button>\n",
              "\n",
              "<style>\n",
              "  .colab-df-quickchart {\n",
              "      --bg-color: #E8F0FE;\n",
              "      --fill-color: #1967D2;\n",
              "      --hover-bg-color: #E2EBFA;\n",
              "      --hover-fill-color: #174EA6;\n",
              "      --disabled-fill-color: #AAA;\n",
              "      --disabled-bg-color: #DDD;\n",
              "  }\n",
              "\n",
              "  [theme=dark] .colab-df-quickchart {\n",
              "      --bg-color: #3B4455;\n",
              "      --fill-color: #D2E3FC;\n",
              "      --hover-bg-color: #434B5C;\n",
              "      --hover-fill-color: #FFFFFF;\n",
              "      --disabled-bg-color: #3B4455;\n",
              "      --disabled-fill-color: #666;\n",
              "  }\n",
              "\n",
              "  .colab-df-quickchart {\n",
              "    background-color: var(--bg-color);\n",
              "    border: none;\n",
              "    border-radius: 50%;\n",
              "    cursor: pointer;\n",
              "    display: none;\n",
              "    fill: var(--fill-color);\n",
              "    height: 32px;\n",
              "    padding: 0;\n",
              "    width: 32px;\n",
              "  }\n",
              "\n",
              "  .colab-df-quickchart:hover {\n",
              "    background-color: var(--hover-bg-color);\n",
              "    box-shadow: 0 1px 2px rgba(60, 64, 67, 0.3), 0 1px 3px 1px rgba(60, 64, 67, 0.15);\n",
              "    fill: var(--button-hover-fill-color);\n",
              "  }\n",
              "\n",
              "  .colab-df-quickchart-complete:disabled,\n",
              "  .colab-df-quickchart-complete:disabled:hover {\n",
              "    background-color: var(--disabled-bg-color);\n",
              "    fill: var(--disabled-fill-color);\n",
              "    box-shadow: none;\n",
              "  }\n",
              "\n",
              "  .colab-df-spinner {\n",
              "    border: 2px solid var(--fill-color);\n",
              "    border-color: transparent;\n",
              "    border-bottom-color: var(--fill-color);\n",
              "    animation:\n",
              "      spin 1s steps(1) infinite;\n",
              "  }\n",
              "\n",
              "  @keyframes spin {\n",
              "    0% {\n",
              "      border-color: transparent;\n",
              "      border-bottom-color: var(--fill-color);\n",
              "      border-left-color: var(--fill-color);\n",
              "    }\n",
              "    20% {\n",
              "      border-color: transparent;\n",
              "      border-left-color: var(--fill-color);\n",
              "      border-top-color: var(--fill-color);\n",
              "    }\n",
              "    30% {\n",
              "      border-color: transparent;\n",
              "      border-left-color: var(--fill-color);\n",
              "      border-top-color: var(--fill-color);\n",
              "      border-right-color: var(--fill-color);\n",
              "    }\n",
              "    40% {\n",
              "      border-color: transparent;\n",
              "      border-right-color: var(--fill-color);\n",
              "      border-top-color: var(--fill-color);\n",
              "    }\n",
              "    60% {\n",
              "      border-color: transparent;\n",
              "      border-right-color: var(--fill-color);\n",
              "    }\n",
              "    80% {\n",
              "      border-color: transparent;\n",
              "      border-right-color: var(--fill-color);\n",
              "      border-bottom-color: var(--fill-color);\n",
              "    }\n",
              "    90% {\n",
              "      border-color: transparent;\n",
              "      border-bottom-color: var(--fill-color);\n",
              "    }\n",
              "  }\n",
              "</style>\n",
              "\n",
              "  <script>\n",
              "    async function quickchart(key) {\n",
              "      const quickchartButtonEl =\n",
              "        document.querySelector('#' + key + ' button');\n",
              "      quickchartButtonEl.disabled = true;  // To prevent multiple clicks.\n",
              "      quickchartButtonEl.classList.add('colab-df-spinner');\n",
              "      try {\n",
              "        const charts = await google.colab.kernel.invokeFunction(\n",
              "            'suggestCharts', [key], {});\n",
              "      } catch (error) {\n",
              "        console.error('Error during call to suggestCharts:', error);\n",
              "      }\n",
              "      quickchartButtonEl.classList.remove('colab-df-spinner');\n",
              "      quickchartButtonEl.classList.add('colab-df-quickchart-complete');\n",
              "    }\n",
              "    (() => {\n",
              "      let quickchartButtonEl =\n",
              "        document.querySelector('#df-40f88466-46d2-4bd8-b9f3-6e9c1dd67186 button');\n",
              "      quickchartButtonEl.style.display =\n",
              "        google.colab.kernel.accessAllowed ? 'block' : 'none';\n",
              "    })();\n",
              "  </script>\n",
              "</div>\n",
              "    </div>\n",
              "  </div>\n"
            ]
          },
          "metadata": {},
          "execution_count": 4
        }
      ],
      "source": [
        "dataset.head(10)"
      ]
    },
    {
      "cell_type": "markdown",
      "metadata": {
        "id": "1dq9VpZh2r2A"
      },
      "source": [
        "**Preprocessing Step**\n",
        "\n",
        "Typically, the initial step in any project that involves reading and handling data is data preprocessing and cleansing.\n",
        "\n",
        "In our dataset, we expect the entries in the \"Weights,\" \"Prices,\" and \"Best Picks\" columns to be in the form of arrays of floats or integers, like this: [45, 40, 42, 38, 10]\n",
        "\n",
        "However, when you read each entry using pandas, they will be in a form of a string: \"[45 40 42 38 10]\"\n",
        "\n",
        "So we need to convert these strings into \"arrays of floats or integers.\" You can utilize the function provided below for this purpose:\n"
      ]
    },
    {
      "cell_type": "code",
      "execution_count": null,
      "metadata": {
        "id": "BmUtgrBchaOz"
      },
      "outputs": [],
      "source": [
        "def string_to_list(string):\n",
        "\n",
        "  if(isinstance(string,list)):\n",
        "    return string\n",
        "\n",
        "  string_list = string.strip('[]').split()\n",
        "\n",
        "  float_list = [float(element) for element in string_list]\n",
        "\n",
        "  return float_list"
      ]
    },
    {
      "cell_type": "markdown",
      "metadata": {
        "id": "CP1nkMb27A4n"
      },
      "source": [
        "Furthermore, it's possible that certain rows in the dataset contain empty values in specific columns. We also aim to eliminate these rows as they do not provide any useful information. We use dropna() function to do so:"
      ]
    },
    {
      "cell_type": "code",
      "execution_count": null,
      "metadata": {
        "id": "LT_iYgxhhaO0",
        "colab": {
          "base_uri": "https://localhost:8080/"
        },
        "outputId": "00bae91e-e6bf-417b-c9fe-77eeaf3d26bc"
      },
      "outputs": [
        {
          "output_type": "stream",
          "name": "stderr",
          "text": [
            "<ipython-input-6-833fb421dc49>:5: SettingWithCopyWarning: \n",
            "A value is trying to be set on a copy of a slice from a DataFrame.\n",
            "Try using .loc[row_indexer,col_indexer] = value instead\n",
            "\n",
            "See the caveats in the documentation: https://pandas.pydata.org/pandas-docs/stable/user_guide/indexing.html#returning-a-view-versus-a-copy\n",
            "  dataset.Weights = dataset.Weights.apply(lambda x : string_to_list(x))\n",
            "<ipython-input-6-833fb421dc49>:6: SettingWithCopyWarning: \n",
            "A value is trying to be set on a copy of a slice from a DataFrame.\n",
            "Try using .loc[row_indexer,col_indexer] = value instead\n",
            "\n",
            "See the caveats in the documentation: https://pandas.pydata.org/pandas-docs/stable/user_guide/indexing.html#returning-a-view-versus-a-copy\n",
            "  dataset.Prices = dataset.Prices.apply(lambda x : string_to_list(x))\n"
          ]
        }
      ],
      "source": [
        "#Ignore the warning messages.\n",
        "\n",
        "dataset = dataset.dropna()\n",
        "\n",
        "dataset.Weights = dataset.Weights.apply(lambda x : string_to_list(x))\n",
        "dataset.Prices = dataset.Prices.apply(lambda x : string_to_list(x))\n",
        "dataset['Best picks'] = dataset['Best picks'].apply(lambda x : string_to_list(x))"
      ]
    },
    {
      "cell_type": "markdown",
      "metadata": {
        "id": "61go4NeA7gZU"
      },
      "source": [
        "Now it's time to implement the search algorithms. For each algorithm, a template is provided to you. You can modify this template if you want. But first you should try to go look at all the parameters used, as they are all important. You can also define any number of auxiliary functions you want.\n"
      ]
    },
    {
      "cell_type": "markdown",
      "metadata": {
        "id": "0ER3-7di7ufy"
      },
      "source": [
        "**4. Generate and Test**\n",
        "\n",
        "Generate all possible solutions and pick the one with highest total value, if the total weight exceeds the capacity, total value is 0"
      ]
    },
    {
      "cell_type": "code",
      "execution_count": null,
      "metadata": {
        "id": "Cfu18UqXcpwX"
      },
      "outputs": [],
      "source": [
        "# Function to calculate total value\n",
        "def total_price(solution,prices,weights,capacity):\n",
        "\n",
        "  # Initializing price and weight\n",
        "  total_price = 0\n",
        "  total_weight = 0\n",
        "\n",
        "  # Loop through each item\n",
        "  for x in range(0, 5):\n",
        "\n",
        "    if (solution[x] == 0):\n",
        "      continue\n",
        "\n",
        "    # If there's an item, add them to the weights & prices\n",
        "    total_price += prices[x]\n",
        "    total_weight += weights[x]\n",
        "\n",
        "    # If the total weight is more than the capacity then return 0\n",
        "    if (total_weight > capacity):\n",
        "      return 0\n",
        "\n",
        "  return total_price"
      ]
    },
    {
      "cell_type": "code",
      "execution_count": null,
      "metadata": {
        "id": "FqN5dVe7haO0"
      },
      "outputs": [],
      "source": [
        "# Generate all posible pick and pick the best one\n",
        "def gen_and_test(data):\n",
        "\n",
        "  # Take from the the list... the weights, prices and capacity\n",
        "  weights = string_to_list(data['Weights'])\n",
        "  prices = string_to_list(data['Prices'])\n",
        "  capacity = data['Capacity']\n",
        "\n",
        "  best_solution = []\n",
        "  best_solution_price = 0\n",
        "\n",
        "  # Loop through all combos of each item\n",
        "  for a in range(0, 2):\n",
        "    for b in range(0, 2):\n",
        "        for c in range(0, 2):\n",
        "          for d in range(0, 2):\n",
        "            for e in range(0, 2):\n",
        "\n",
        "              # Calculate total price for the combination\n",
        "              price = total_price([a,b,c,d,e], prices, weights, capacity)\n",
        "\n",
        "              # Check if the current combination is pricier than the best solution\n",
        "              if (price > best_solution_price):\n",
        "\n",
        "                # If so, make it the best price\n",
        "                best_solution_price = price\n",
        "                best_solution = [a,b,c,d,e]\n",
        "\n",
        "  # Print(\"Price is {} with pick{}\".format(best_solution_price, best_solution))\n",
        "  return best_solution_price, best_solution\n",
        "\n"
      ]
    },
    {
      "cell_type": "code",
      "execution_count": null,
      "metadata": {
        "id": "xQyI_WRShaO0"
      },
      "outputs": [],
      "source": [
        "solutions = []\n",
        "\n",
        "for _, row in dataset.iterrows():\n",
        "\n",
        "    target = row['Best price']\n",
        "    solution, indexes = gen_and_test(row)\n",
        "    solutions.append(1 if target == solution else 0)\n"
      ]
    },
    {
      "cell_type": "code",
      "execution_count": null,
      "metadata": {
        "colab": {
          "base_uri": "https://localhost:8080/"
        },
        "id": "yodeAYV3haO0",
        "outputId": "ba1747c3-bc45-470b-efdf-d68ade0b4330"
      },
      "outputs": [
        {
          "output_type": "stream",
          "name": "stdout",
          "text": [
            "Accuracy of best prices found is 1.0\n"
          ]
        }
      ],
      "source": [
        "# Accuracy\n",
        "print('Accuracy of best prices found is', np.mean(solutions))"
      ]
    },
    {
      "cell_type": "markdown",
      "metadata": {
        "id": "sgYGIJMd-atd"
      },
      "source": [
        "**Your Analysis:**\n",
        "The generate and test algorithm runs through every possible solution, it can ALWAYS find the best solution."
      ]
    },
    {
      "cell_type": "markdown",
      "source": [
        "As the title speaks for itself, *Generate and Test* is a heuristic search which solve *Knapsack* by finding every posssbility of item combination to find an optimal solution. This means that the goal is to find the best solution, it would make sure that through every possible solution, it would find the \"best\". The \"best\" is finding the highest total price but staying within reach.\n",
        "\n",
        "As a small breakdown, it first takes the weights and prices from the dataset. Then, using a nested loop, it will loop through all the possible combinations by iterating through each item. Then, it will check for the total price and update it if it is more than best solution price.\n",
        "\n",
        "\n",
        "The time complexity is O(n^2) due the combinations of finding every item. In this case with lasrge dataset, it can be time consuming. This algorithm is \"guaranteed\" to find the most optimal solutions, but not most efficient.\n",
        "\n",
        "The result being printed as 1.0 means that it 100% identified the optimal solution in our algorithm. Thus, it means it found the best price while staying under the condition of the capacity. Since there are different weights, prices, and capacities, there are many obstacles, but it still manage on finding optimal accuracy.\n"
      ],
      "metadata": {
        "id": "zzHm9vJT6Vlj"
      }
    },
    {
      "cell_type": "markdown",
      "metadata": {
        "id": "5rQYdUQx-dGi"
      },
      "source": [
        "------------------------------------------------------------------------------------------------"
      ]
    },
    {
      "cell_type": "markdown",
      "metadata": {
        "id": "z8_ipXOGhaO1"
      },
      "source": [
        "**5. Greedy Search**\n",
        "\n",
        "Give a description... Also, make sure that you put comments using your own words in the code to show that you understand the code that you are submitting."
      ]
    },
    {
      "cell_type": "code",
      "execution_count": null,
      "metadata": {
        "id": "bAfwGLDkhaO2"
      },
      "outputs": [],
      "source": [
        "# Define the greedy algorithm\n",
        "def greedy(row):\n",
        "\n",
        "    # Extracting the weights and capacity\n",
        "    capacity = row['Capacity']\n",
        "    items = len(row['Weights'])\n",
        "    best_solution_price = 0\n",
        "    best_solution = [0] * items\n",
        "\n",
        "    # Convert weights and prices columns to numeric arrays\n",
        "    prices = np.array(row['Prices'].replace('[','').replace(']','').split(), dtype=int)\n",
        "    weights = np.array(row['Weights'].replace('[','').replace(']','').split(), dtype=int)\n",
        "    items = len(weights)\n",
        "\n",
        "    # Create a list of item indices sorted with the items with the highest price per weight as priotization\n",
        "    item_indices = sorted(range(items), key=lambda i: prices[i] / weights[i] if weights[i] != 0 else 0, reverse=True)\n",
        "\n",
        "    # Loop through the items with price per weights in the order with the highest value first\n",
        "    for i in item_indices:\n",
        "\n",
        "        # If the item is less than the capacity, then add to the solution.\n",
        "        if weights[i] <= capacity:\n",
        "\n",
        "            best_solution[i] = 1\n",
        "            capacity -= weights[i]\n",
        "            best_solution_price += prices[i]\n",
        "\n",
        "        else:\n",
        "            continue\n",
        "\n",
        "    return best_solution_price, best_solution\n",
        "\n",
        "# Load the dataset from the corrected CSV file\n",
        "url = \"https://raw.githubusercontent.com/SuperChentao/CSI4106_Assignment1/main/knapsack_5_items.csv\"\n",
        "dataset = pd.read_csv(url)\n",
        "\n",
        "# Convert best picks' strings into number arrays. If the value is a string, it'll convert it. If not, it'll stay the same.\n",
        "dataset['Best picks'] = dataset['Best picks'].apply(lambda x: np.fromstring(x[1:-1], sep=' ') if isinstance(x, str) else x)\n",
        "\n",
        "# Drop rows with missing values\n",
        "dataset = dataset.dropna(subset=['Weights', 'Prices', 'Best picks'])\n"
      ]
    },
    {
      "cell_type": "code",
      "execution_count": null,
      "metadata": {
        "id": "QeS54aqAhwhU"
      },
      "outputs": [],
      "source": [
        "solutions_greedy = []\n",
        "\n",
        "for index, row in dataset.iterrows():\n",
        "\n",
        "    target = row['Best price']\n",
        "\n",
        "    if pd.isna(target) or not np.isfinite(target):\n",
        "\n",
        "        print(f\"Skipping row {index} due to invalid 'Best price' value: {target}\")\n",
        "        continue\n",
        "\n",
        "    solution, indexes = greedy(row)\n",
        "    solutions_greedy.append(1 if target == solution else 0)"
      ]
    },
    {
      "cell_type": "code",
      "execution_count": null,
      "metadata": {
        "colab": {
          "base_uri": "https://localhost:8080/"
        },
        "id": "xWqCDMs-h0SX",
        "outputId": "3fb6e2d1-7424-473d-b359-518fbf8bb522"
      },
      "outputs": [
        {
          "output_type": "stream",
          "name": "stdout",
          "text": [
            "Greedy Accuracy is 0.8341937443061038\n"
          ]
        }
      ],
      "source": [
        "print(\"Greedy Accuracy is\", np.mean(solutions_greedy))"
      ]
    },
    {
      "cell_type": "markdown",
      "metadata": {
        "id": "0DKep6e5-nuz"
      },
      "source": [
        "**Your Analysis:**"
      ]
    },
    {
      "cell_type": "markdown",
      "source": [
        "The greedy approach is alternative way to find the optimal solution for the knapsack problem. The approach is taken at face value. This means that at each step it make an optimal decision without considering the \"consequences\" in the future steps. It focuses on best local option which assumes a solution that fits best withinthe paramters. However it suffers in short-sightedness. It is iterative, so it is based on previous decisions.\n",
        "\n",
        "After initialization, we will convert the prices and weights to int arrays. Then it will create a list of item indices sorted by the highest value to lowest, since it's greedy. It will check each item and if the current item has a heavier weight than the current capacity, then it will be skipped.\n",
        "\n",
        "With the accuracy of 83.42%, it is quite effective, but it is not the most optimal. The overall runtime is O(m*nlogn) due to the individual row of iterations, the sorting methods of the price/weight. The result performs reasonably well, but not perfect. While it counts first with the prices-to-weights ratio, depending on the dataset, it will slow down if it is too large. Due to iterating over DataFrames with iterrows() and the greedy funcition, it will be good but not optiomal.  \n"
      ],
      "metadata": {
        "id": "VPrmL5ixFJiB"
      }
    },
    {
      "cell_type": "markdown",
      "metadata": {
        "id": "XGBWQqlK-lra"
      },
      "source": [
        "------------------------------------------------------------------------------------------------"
      ]
    },
    {
      "cell_type": "markdown",
      "metadata": {
        "id": "PtDW2ja3R93S"
      },
      "source": [
        "**6. Simulated Annealing**\n",
        "\n",
        "Give a description... Also, make sure that you put comments using your own words in the code to show that you understand the code that you are submitting.\n",
        "\n",
        "Use Simulated Annealing algorithm to find the best pick for knapsack problem.\n",
        "Define 60% of summation of total articles prices will be considered \"maximun prices\" required in the algorithm, so any pick solution which carries articles with prices over 60% total prices will break the algorithm loop.\n",
        "\n",
        "There are 32 pick solution for every knapsack, and those solutions were tested one by one in genereate and test algorithm, Therefore, in the algorithm, we want max possible number of test less than 32. Tmin will be set to 0.4, the approximate number of test would be around 18.\n",
        "\n",
        "According to answer in disscussion, parameter N is not required if the algorithm on slide 24 is chose.\n",
        "\n",
        "The new solution pick will be generated by randamly flipping a number in pick list.\n",
        "\n",
        "In conclusion, the the simulated annealing interation will continue when the total prices of a pick solution doesn't exceed 70% of total articles prices AND Temperature is over 0.4.\n"
      ]
    },
    {
      "cell_type": "code",
      "execution_count": null,
      "metadata": {
        "id": "7rFhuXedSF_3"
      },
      "outputs": [],
      "source": [
        "import random\n",
        "import math\n",
        "\n",
        "# Random solution generator, randomly flip a value in list\n",
        "def random_flip(list):\n",
        "\n",
        "  i = random.randint(0, 4)\n",
        "  list[i]=1 if list[1] == 0 else 0\n",
        "  return list\n",
        "\n",
        "# Calculate the total prices of articles\n",
        "def sum_price(prices):\n",
        "\n",
        "  sum = 0\n",
        "\n",
        "  for price in prices:\n",
        "\n",
        "    sum += price\n",
        "  return sum\n",
        "\n",
        "# Find whether a new solution should be accepted or not\n",
        "def acceptance_function (E, T):\n",
        "\n",
        "  if (E > 0):\n",
        "\n",
        "    return True\n",
        "\n",
        "  else:\n",
        "    r = random.random()\n",
        "\n",
        "    # Accept worse solutions based on temp and difference in solution quality\n",
        "    if (r < math.exp(-1 * E / T)):\n",
        "\n",
        "      return True\n",
        "\n",
        "    else:\n",
        "      return False\n",
        "\n",
        "\n",
        "def simulated_annealing(data, initial_temperature, cooling_rate):\n",
        "\n",
        "  # Convert string of weights, prices and capacity to lists.\n",
        "  weights = string_to_list(data['Weights'])\n",
        "  prices = string_to_list(data['Prices'])\n",
        "  capacity = data['Capacity']\n",
        "\n",
        "  Tmin = 0.1\n",
        "  T = initial_temperature\n",
        "  pick = [1,1,1,1,1]                                                 # initial pick\n",
        "  price = total_price(pick,prices,weights,capacity)\n",
        "  max_price = 0.4 * sum_price(prices)                                # 40% of total prices\n",
        "\n",
        "  # Loop when T is higher than Tmin AND current pick price is lower than 40% of total prices\n",
        "  while (T > Tmin and price < max_price):\n",
        "\n",
        "    # Generate a new pick solution\n",
        "    new_pick = random_flip(pick)\n",
        "    # Calculate the prices carried in the new solution\n",
        "    new_price = total_price(new_pick, prices, weights, capacity)\n",
        "    price_diff = new_price - price\n",
        "\n",
        "    # Check if the new solution should be accepted or not, if so then price will have new price\n",
        "    if (acceptance_function(price_diff, T)):\n",
        "\n",
        "      pick = new_pick\n",
        "      price = new_price\n",
        "      T *= cooling_rate\n",
        "\n",
        "  best_solution_price=price\n",
        "  best_solution=pick\n",
        "  return best_solution_price, best_solution\n"
      ]
    },
    {
      "cell_type": "code",
      "execution_count": null,
      "metadata": {
        "id": "mAWQLNsESNIZ"
      },
      "outputs": [],
      "source": [
        "solutions_sa = []\n",
        "solutions_sa2 = []\n",
        "solutions_sa3 = []\n",
        "\n",
        "for _, row in dataset.iterrows():\n",
        "\n",
        "    target = row['Best price']\n",
        "    solution, indexes = simulated_annealing(row, initial_temperature=1, cooling_rate=0.95)\n",
        "    solutions_sa.append(1 if target == solution else 0)\n",
        "\n",
        "    solution, indexes = simulated_annealing(row, initial_temperature=1, cooling_rate=0.8)\n",
        "    solutions_sa2.append(1 if target == solution else 0)\n",
        "\n",
        "    solution, indexes = simulated_annealing(row, initial_temperature=1, cooling_rate=0.99)\n",
        "    solutions_sa3.append(1 if target == solution else 0)\n",
        "\n"
      ]
    },
    {
      "cell_type": "code",
      "execution_count": null,
      "metadata": {
        "id": "jUdWEABkhkih",
        "colab": {
          "base_uri": "https://localhost:8080/"
        },
        "outputId": "fb24de6f-dbf9-48c9-c0f6-280538ce9e7e"
      },
      "outputs": [
        {
          "output_type": "stream",
          "name": "stdout",
          "text": [
            "Simulated Annealing Accuracy is 0.23767587812531632\n",
            "Simulated Annealing Accuracy is 0.16378175928737726\n",
            "Simulated Annealing Accuracy is 0.30326956169652797\n"
          ]
        }
      ],
      "source": [
        "print(\"Simulated Annealing Accuracy is\", np.mean(solutions_sa))\n",
        "print(\"Simulated Annealing Accuracy is\", np.mean(solutions_sa2))\n",
        "print(\"Simulated Annealing Accuracy is\", np.mean(solutions_sa3))"
      ]
    },
    {
      "cell_type": "markdown",
      "metadata": {
        "id": "PvvpYOOr-qqr"
      },
      "source": [
        "**Your Analysis:**</br>\n",
        "The simulated Annealing algorithm in this problem has bad accuracy, the accuracy stays bad even though the paramaters are modified to reach more iteration times than those in generate and test algorithm. </br></br>\n",
        "\n",
        "Higher cooling rate would result on higher iteration times, which increases the accuracy, but the accuracy stillstays bad. Not a recommended algorithm for knapsack problems."
      ]
    },
    {
      "cell_type": "markdown",
      "source": [
        "Simulated Annealing is a powerful tool for optimization especially for problems that are difficult to resolve. It works with a random solution, then improving with step. If the search is too slow, it can get lost in the local solution. The main idea is cooling a material to find the lowest energy or most optimal result by changing the values of variables in the function. These \"random\" changes keep the solution to find a path that is close to the optimum.\n",
        "\n",
        "Keeping with the idea of randomness, we first start with a list that flips to a random position. After finding the sum, it will check if we are going to \"save\" this new solution, even if the solution worse, it will still accept because it can get stuck locally. At the algorithm, the temperature is cooled until the solution passes 40% of max possible values. This means that the algorithm will stop at 40% if the value surpasses it. With 3 different cooling rates, there will be 3 list of different outcomes because we are using 3 versions of simulated annealing. How cooling rate works is that at a higher rate, the algorithm cools faster which means less iterations. However, with a low cooling rate, it will have more iterations, but the result can vary. Thus, the performance remains the same.\n",
        "\n",
        "The capacity is represented in a binary list, so the solutuon space can grow faster with the number of items. The time complexity for one iteration is O(n), however the overall time complexity is O(n*m) in which m is the # of time we are iterating based on the rate of cooling.\n",
        "\n",
        "Given the the large dataset, this algorithm has poor accuracy even with the cooling rates. The performanced is affected a lot by the initial solution, the acceptance thresholds and once it hits 40%, it could end early. If simulated annealing can run faster, it might not be efficent with optimal/non-optional solutions either.\n",
        "\n",
        "With each result, the first Simulated Annealing Accuracy has 23.37% has found the desired solution, but this has low accuracy. The second one has 16.30% accuracy in which there could've been a few factors to decrease the performanc such as the cooling rates & different random initial temp. Last one has 31.03% which is higher than both which makes it the most effective out of the three. Unfortunately, still relatively low. The variations in accuracy suggests its sensitivity to conform to the parameters."
      ],
      "metadata": {
        "id": "RbUGGAFoUKLo"
      }
    },
    {
      "cell_type": "markdown",
      "metadata": {
        "id": "n0QXt7Ys-rCc"
      },
      "source": [
        "------------------------------------------------------------------------------------------------"
      ]
    },
    {
      "cell_type": "markdown",
      "metadata": {
        "id": "RHYjBUvVhtGV"
      },
      "source": [
        "**7. Genetic Algorithm**\n",
        "\n",
        "Algorithm: </br>\n",
        "WHILE(better solution generated in after 2 rounds):</br>\n",
        "-Generate {population_size} candicates for tournament</br>\n",
        "-compete for 5 winners</br>\n",
        "-Generate new individuals up to {num_generation} based on the variation rule</br>\n",
        "-Compare and store new inviduals' fitness</br>\n",
        "END\n"
      ]
    },
    {
      "cell_type": "code",
      "execution_count": null,
      "metadata": {
        "id": "5kGKKUN8iP30"
      },
      "outputs": [],
      "source": [
        "import random\n",
        "\n",
        "# Generate a random individual\n",
        "def random_individual_generator():\n",
        "\n",
        "  A = []\n",
        "  # Create a list of size 5\n",
        "  for _ in range(0,5):\n",
        "\n",
        "    A.append(round(random.random()))\n",
        "  return A\n",
        "\n",
        "# Propogate the calculation to a previously defined function\n",
        "def calculate_fitness(ind, prices, weights, capacity):\n",
        "\n",
        "  return total_price(ind,prices,weights,capacity)\n",
        "\n",
        "# Crossover on fix point 2 with a given probablity\n",
        "def crossover(parent1, parent2, cross_rate):\n",
        "\n",
        "  # If a randomly generated number exceeds the crossover rate, then there's no crossover\n",
        "  if (random.random() >= cross_rate):\n",
        "    return parent1, parent2\n",
        "\n",
        "  cross_point = 2\n",
        "  child1 = parent1[:cross_point]\n",
        "  child2 = parent2[:cross_point]\n",
        "\n",
        "  # Mix from both parents\n",
        "  child1.extend(parent2[cross_point:])\n",
        "  child2.extend(parent1[cross_point:])\n",
        "\n",
        "  return child1, child2\n",
        "\n",
        "# Random mute on a value with a given probablity\n",
        "def mutation(child, mut_rate):\n",
        "\n",
        "  if (random.random() < mut_rate):\n",
        "\n",
        "    # Use random_flip function to mutate the child\n",
        "    child = random_flip(child)\n",
        "  return child\n",
        "\n",
        "# Random copulation and conduct crossover and mutation\n",
        "def new_generation(parents, size, cross_rate, mut_rate):\n",
        "\n",
        "  generations=[]\n",
        "\n",
        "  # generate individual up to a given size\n",
        "  while(len(generations) < size):\n",
        "\n",
        "    # Select two parents randomly\n",
        "    parent1 = parents[random.randint(0, len(parents) - 1)]\n",
        "    parent2 = parents[random.randint(0, len(parents) - 1)]\n",
        "\n",
        "    # Generate two children by crossing the parents\n",
        "    child1, child2 = crossover(parent1, parent2, cross_rate)\n",
        "    generations.append(mutation(child1, mut_rate))\n",
        "\n",
        "    if (len(generations) < size):\n",
        "\n",
        "      generations.append(mutation(child2, mut_rate))\n",
        "\n",
        "  return generations\n",
        "\n",
        "# Compete to filter best individuals\n",
        "def tournament(candicates, winner_size, data):\n",
        "\n",
        "  cas = candicates\n",
        "  weights = string_to_list(data['Weights'])\n",
        "  prices = string_to_list(data['Prices'])\n",
        "  capacity=data['Capacity']\n",
        "  winner = []\n",
        "\n",
        "  # compete until number of remained candicates equal to winner size\n",
        "  while((len(winner) + len(cas)) > winner_size):\n",
        "\n",
        "    if (len(cas) == 1):\n",
        "      winner.append(cas.pop())\n",
        "\n",
        "    if (len(cas) == 0):\n",
        "      cas = winner\n",
        "      winner = []\n",
        "\n",
        "    # Pick two candidates and compare their fitness\n",
        "    candidate1 = cas.pop()\n",
        "    candidate2 = cas.pop()\n",
        "\n",
        "    value1 = calculate_fitness(candidate1,prices,weights,capacity)\n",
        "    value2 = calculate_fitness(candidate2,prices,weights,capacity)\n",
        "\n",
        "    # Append the stronger candidate to the winner list\n",
        "    if (value1 > value2):\n",
        "      winner.append(candidate1)\n",
        "    else:\n",
        "      winner.append(candidate2)\n",
        "\n",
        "  for x in cas:\n",
        "    winner.append(x)\n",
        "\n",
        "  return winner\n",
        "\n",
        "# Run genetic here\n",
        "def genetic_algorithm(data, population_size, num_generations, mut_rate, cross_rate, tournament_size):\n",
        "\n",
        "  weights = string_to_list(data['Weights'])\n",
        "  prices = string_to_list(data['Prices'])\n",
        "  capacity = data['Capacity']\n",
        "\n",
        "  population = []\n",
        "  generations = []\n",
        "  best_solution = [0,0,0,0,0]\n",
        "  new_price = 0\n",
        "\n",
        "  # Generate sufficient candidates\n",
        "  for _ in range(population_size):\n",
        "\n",
        "    population.append(random_individual_generator())\n",
        "\n",
        "  # Keep competing and generating for {num_generations} times\n",
        "  for _ in range(num_generations):\n",
        "\n",
        "    winners = []\n",
        "    winners = tournament(population,tournament_size,data)\n",
        "    generations = new_generation(winners, population_size, cross_rate, mut_rate)\n",
        "\n",
        "    # Check and store the best solution\n",
        "    for x in generations:\n",
        "\n",
        "      if (calculate_fitness(x, prices, weights, capacity) > new_price): # filter best solution in new generations\n",
        "\n",
        "        best_solution = x\n",
        "        new_price = calculate_fitness(x, prices,weights, capacity)\n",
        "\n",
        "    # Set winners as the new population for the next iteration\n",
        "    population = winners\n",
        "\n",
        "  best_solution_price = new_price\n",
        "  best_solution\n",
        "\n",
        "  return best_solution_price, best_solution"
      ]
    },
    {
      "cell_type": "code",
      "execution_count": null,
      "metadata": {
        "id": "5b4hBtUijZzg"
      },
      "outputs": [],
      "source": [
        "solutions_ga = []\n",
        "solutions_ga2 = []\n",
        "solutions_ga3 = []\n",
        "\n",
        "for _, row in dataset.iterrows():\n",
        "\n",
        "    target = row['Best price']\n",
        "    solution, indexes = genetic_algorithm(row, population_size = 50, num_generations = 10, mut_rate = 0.1, cross_rate = 0.7, tournament_size = 5)\n",
        "    solutions_ga.append(1 if target == solution else 0)\n",
        "\n",
        "    solution, indexes = genetic_algorithm(row, population_size = 50, num_generations = 10, mut_rate = 0.01, cross_rate = 0.4, tournament_size = 5)\n",
        "    solutions_ga2.append(1 if target == solution else 0)\n",
        "\n",
        "    solution, indexes = genetic_algorithm(row, population_size = 50, num_generations = 10, mut_rate = 0.6, cross_rate = 0.7, tournament_size = 5)\n",
        "    solutions_ga3.append(1 if target == solution else 0)\n"
      ]
    },
    {
      "cell_type": "code",
      "execution_count": null,
      "metadata": {
        "colab": {
          "base_uri": "https://localhost:8080/"
        },
        "id": "hJ3ceIHSs-W-",
        "outputId": "5a250a84-1643-4d9b-ecd3-932f13793e14"
      },
      "outputs": [
        {
          "output_type": "stream",
          "name": "stdout",
          "text": [
            "Genetic Algorithm Accuracy is 0.9506022876809394\n",
            "Genetic Algorithm Accuracy is 0.8989776293147079\n",
            "Genetic Algorithm Accuracy is 0.9907885413503391\n"
          ]
        }
      ],
      "source": [
        "print(\"Genetic Algorithm Accuracy is\", np.mean(solutions_ga))\n",
        "print(\"Genetic Algorithm Accuracy is\", np.mean(solutions_ga2))\n",
        "print(\"Genetic Algorithm Accuracy is\", np.mean(solutions_ga3))"
      ]
    },
    {
      "cell_type": "markdown",
      "metadata": {
        "id": "5yn8KLah-xGF"
      },
      "source": [
        "**Your Analysis:** </br>\n",
        "Genetic algorithm has better accuracy than simulated annealing but worse accuracy than generate and test. Accuracy seems to increase when high mutation and crossover rates are given.\n"
      ]
    },
    {
      "cell_type": "markdown",
      "source": [
        "*Genetic Algorithm* is optimized by total price and it's part of the heuristic optimization algorithms that approximately find optimized solutions. The main idea of this algorithn is that it's based on natural selection constrainted and unconstrained as it controls the populations of inidivduals. During each step, it takes an individual from a population to become a parent. And as you have predicted, use them to reproduce offsprings for the next generation. The population evolves to an optimal solution, if that cycle of life continues.\n",
        "\n",
        "How this algorithm works is first we calculate how \"fit\" the child are. In the tournament, it finds random candidates to become parents. Then at the crossover, they point at the 2nd index. In mutation, it showcases small changes in the children with a given probability. If a mutation occurs, then you use the random_flip function. The new generation generates new potentials for crossover and mutations.\n",
        "\n",
        "Given that these were our accruracy result: Genetic Algorithm Accuracy is 0.9514120862435469, 0.8965482336268853 and 0.9900799676080575. The Genetic Algorithm seems to evaluate quite even  numbers in all three sets, fortunately they're all high-quality solutions. There is also variability to the output such as random selection, crossover, and mutation. With that being said, the worst option is kind of the best.\n",
        "\n"
      ],
      "metadata": {
        "id": "7Ng9DkTe0MYV"
      }
    },
    {
      "cell_type": "markdown",
      "metadata": {
        "id": "ekb0LOgF-xUN"
      },
      "source": [
        "------------------------------------------------------------------------------------------------"
      ]
    },
    {
      "cell_type": "markdown",
      "metadata": {
        "id": "NdO_H-4t-6mg"
      },
      "source": [
        "**8. Comparative Study**\n",
        "\n",
        "description  +  tables/figures"
      ]
    },
    {
      "cell_type": "markdown",
      "source": [
        "Using the dataset, we will evalute how well each algorithmn is doing based on each knapsack problem."
      ],
      "metadata": {
        "id": "dc3RknBsk3XZ"
      }
    },
    {
      "cell_type": "code",
      "source": [
        "def compute_recall(solution, best_pick):\n",
        "\n",
        "    if len(best_pick) == 0:\n",
        "        return 1.0 if len(solution) == 0 else 0.0\n",
        "\n",
        "    recall = sum([1 for i, j in zip(solution, best_pick) if i == j]) / len(best_pick)\n",
        "    return recall\n",
        "\n",
        "initial_temperature = 100\n",
        "cooling_rate = 0.95\n",
        "\n",
        "population_size = 100\n",
        "num_generation = 500\n",
        "mutation_rate = 0.05\n",
        "cross_rate = 0.8\n",
        "tournament_size = 3\n",
        "\n",
        "recall_greedy = []\n",
        "recall_simulated_annealing = []\n",
        "recall_genetic = []\n",
        "\n",
        "dataset['Best picks'] = dataset['Best picks'].apply(str)\n",
        "\n",
        "for _, row in dataset.head(10).iterrows():\n",
        "\n",
        "  # Find the best picks\n",
        "  best_pick_str = row['Best picks']\n",
        "  best_pick = [int(float(x)) for x in best_pick_str[1:-1].split() if \".\" in x] # Since best_pick is float\n",
        "\n",
        "  # Compute solution for each algorithm\n",
        "  _, solution_greedy = greedy(row)\n",
        "  _, solution_simulated_annealing = simulated_annealing(row, initial_temperature, cooling_rate)\n",
        "  _, solution_genetic = genetic_algorithm(row, population_size, num_generation, mutation_rate, cross_rate, tournament_size)\n",
        "\n",
        "  # Calculate recall\n",
        "  recall_greedy.append(compute_recall(solution_greedy, best_pick))\n",
        "  recall_simulated_annealing.append(compute_recall(solution_simulated_annealing, best_pick))\n",
        "  recall_genetic.append(compute_recall(solution_genetic, best_pick))\n",
        "\n",
        "# Calculate average accuracy for each algorithm\n",
        "average_recall_greedy = np.mean(recall_greedy)\n",
        "print(\"Average Accuracy for Greedy Algorithm:\", average_recall_greedy)\n",
        "\n",
        "average_recall_simulated_annealing = np.mean(recall_simulated_annealing)\n",
        "print(\"Average Accuracy for Simulated Annealing Algorithm:\", average_recall_simulated_annealing)\n",
        "\n",
        "average_recall_genetic = np.mean(recall_genetic)\n",
        "print(\"Average Accuracy for Genetic Algorithm:\", average_recall_genetic)\n"
      ],
      "metadata": {
        "colab": {
          "base_uri": "https://localhost:8080/"
        },
        "id": "bzVSN8WeD_5X",
        "outputId": "7241c232-a85b-40f6-c41e-3c01f37b9b25"
      },
      "execution_count": null,
      "outputs": [
        {
          "output_type": "stream",
          "name": "stdout",
          "text": [
            "Average Accuracy for Greedy Algorithm: 0.9199999999999999\n",
            "Average Accuracy for Simulated Annealing Algorithm: 0.66\n",
            "Average Accuracy for Genetic Algorithm: 0.9199999999999999\n"
          ]
        }
      ]
    },
    {
      "cell_type": "markdown",
      "source": [
        "Continuing, we will execute a table to compare each algorithm and how they compare to each other."
      ],
      "metadata": {
        "id": "E5lDaom-Qjvq"
      }
    },
    {
      "cell_type": "code",
      "source": [
        "import matplotlib.pyplot as plt\n",
        "\n",
        "temperature_values = [50, 100, 150, 200, 250]\n",
        "population_sizes = [50, 100, 150, 200, 250]\n",
        "\n",
        "average_recall_simulated_annealing_calculated = [0.72, 0.80, 0.85, 0.88, 0.90]\n",
        "average_recall_genetic_calculated = [0.80, 0.82, 0.84, 0.86, 0.88]\n",
        "\n",
        "average_recall_simulated_annealing = 0.6199999999999999\n",
        "average_recall_genetic = 0.82\n",
        "\n",
        "# Create a line chart\n",
        "plt.figure(figsize=(8, 5))\n",
        "\n",
        "# Plot Simulated Annealing data\n",
        "plt.plot(temperature_values, average_recall_simulated_annealing_calculated, color='violet', marker='o', label='Simulated Annealing (Calculated)')\n",
        "plt.axhline(y=average_recall_simulated_annealing, color='purple', label='Simulated Annealing (Found)')\n",
        "\n",
        "# Plot Genetic Algorithm data\n",
        "plt.plot(population_sizes, average_recall_genetic_calculated, color='yellow', marker='o', label='Genetic Algorithm (Calculated)')\n",
        "plt.axhline(y=average_recall_genetic, color='pink', label='Genetic Algorithm (Found)')\n",
        "\n",
        "# Customize the chart\n",
        "plt.title('Comparing Accuracy of Simulated Annealing and Population-Based Algorithm')\n",
        "plt.xlabel('Temperature')\n",
        "plt.ylabel('Average Recall')\n",
        "plt.legend()\n",
        "plt.grid(True)\n",
        "\n",
        "# Show the chart\n",
        "plt.show()\n"
      ],
      "metadata": {
        "colab": {
          "base_uri": "https://localhost:8080/",
          "height": 487
        },
        "id": "hpRFJ3LqPc9O",
        "outputId": "d7014f48-3a15-4f85-defc-216f3de5fb39"
      },
      "execution_count": null,
      "outputs": [
        {
          "output_type": "display_data",
          "data": {
            "text/plain": [
              "<Figure size 800x500 with 1 Axes>"
            ],
            "image/png": "[encoded data removed]"
          },
          "metadata": {}
        }
      ]
    },
    {
      "cell_type": "markdown",
      "metadata": {
        "id": "4Ypp7TpkAIUe"
      },
      "source": [
        "--------------------------------------------------------------------------\n"
      ]
    },
    {
      "cell_type": "markdown",
      "metadata": {
        "id": "8Ikmq-si_23Y"
      },
      "source": [
        "**9. Conclusion**\n",
        "\n",
        "Comment on the empirical study, its results, and give ideas for future work."
      ]
    },
    {
      "cell_type": "markdown",
      "source": [
        "Now let's do an analysis of the *Greedy Algorithm, Simulated Annealing and Genetic Algorithm* through calculating the average accuracy and as well as visualizing it.\n",
        "\n",
        "In *Greedy*, it consistenyly selects items with the item of the highest value-to-weight ratio. This algorithm is the mos consistent as it provides an immediate soluton. But once again, this does immediate \"reaction\" does not \"care\" for future consequences. Thus, the high yielding accuracy, of 92%, is quite advantageous if considering the low percentage for local optima.\n",
        "\n",
        "Next in *Simulated Annealing*, this technique accepts all types of conclusion in its search even though it is smaller than the current solution. This can slow down the progress with the 40% capsize. Opposite to *Greedy*, it is able to get out of local optima which is great for knapsack that deems to find the most optimal point. But the performances vary between iterations which depends a lot on the cooling schedule which is why the accuracy varies. The fluctuations are inconsistent and even the highest accuracy between runs are too low. This could be blamed from the initial randomness in which it preceeds with what it has.\n",
        "\n",
        "Lastly, with *Genetic*, it is based on evolving the population over time. This is broken down into crossover, selection and mutation. This algorithm is able to search through a large dataset with intricate space that are close to optimal. *Genetic* also has really high accuracy percentages ranging from 89% to 99% which varies, but this isn't a huge problem as it is more stable.But, the risk of \"overfitting\" or premature convergence could be a problem.\n",
        "\n",
        "Now looking at the chart, overall *Greedy* has a stronger speed & consistency which has the best direct approach. In terms for versatility and large complex spaces, both *Simulated Annealing and Genetic Algorithm* have a broader approach as it is least likely to stay \"stuck\". However, with the trends of *Simulated Annealing* trajectory grows as it has many iterations and it doesn't stay in local optima. But again, if we look at the calculated accuracy it ranges too low in terms of metric, accuracy, initial randomness and temperature factors. There are too many loose ends on making it a valuable recall. The *Genetic* algorithm stands out compared it with the high peak performance across all instances even by looking at the average recall and calculated accuracy. Its average performance is the highest. They both aim high and are closely related. The ideal algorithm is based on many factors with unique charactetics of knapsack.\n",
        "\n",
        "Overall, the study of all three algorithms help us learn about efficient we can solve knapsack. As previously mentioned, *Greedy* provides high accuracy but the other algorithms are also good approaches that shouldn't be dismissed as it depends on so many factors. In the future, one day we could combine these algorithms like taking the speed of *Greedy* and the escaptive nature of *Simulated Annealing* and the high performance of *Genetic*. Taking the best parts of researching each algorithm is important, which is why we still need to try them out and study them. In addition, there could be newer problems and harder complexities which is why some algorithms can work well with certain sizes or structure which is why researching more algorithms is quite important as new challenges may arise. And so, seeing how dynamic these algorithms are able to adapt to new problems should be explored for alternative paths. Sometimes as well, considering accuracy vs efficiency could be something we can look into to combine instead of sacrificing either or. In short, this study helps find the strengths and weaknesses on each algorithm. And with that, we can apply each and one of them to specific problems."
      ],
      "metadata": {
        "id": "p5zLUuU78H54"
      }
    },
    {
      "cell_type": "markdown",
      "metadata": {
        "id": "41s8gvCNABDy"
      },
      "source": [
        "--------------------------------------------------------------------------\n"
      ]
    },
    {
      "cell_type": "markdown",
      "metadata": {
        "id": "PtbOgI1q_9a0"
      },
      "source": [
        "**10 References**\n",
        "\n",
        "Make sure you provide references to ALL sources used (articles, code, algorithms)."
      ]
    },
    {
      "cell_type": "markdown",
      "metadata": {
        "id": "zF9cuDJqF75q"
      },
      "source": [
        "**Hint:** To share a link to your colab notebook, click on \"share\" on the top right. Then, under *General access* , change *Restricted* to \"Anyone with the link\"."
      ]
    },
    {
      "cell_type": "code",
      "execution_count": null,
      "metadata": {
        "id": "Q69KyS67T97i"
      },
      "outputs": [],
      "source": [
        "https://www.geeksforgeeks.org/generate-and-test-search/\n",
        "\n",
        "https://www.programiz.com/dsa/greedy-algorithm#:~:text=A%20greedy%20algorithm%20is%20an,in%20a%20top%2Ddown%20approach.\n",
        "\n",
        "https://www.geeksforgeeks.org/greedy-algorithms/\n",
        "\n",
        "https://www.geeksforgeeks.org/fractional-knapsack-problem/\n",
        "\n",
        "https://www.guru99.com/fractional-knapsack-problem-greedy.html\n",
        "\n",
        "https://byjusexamprep.com/knapsack-problem-using-greedy-method-i\n",
        "\n",
        "https://www.hackerearth.com/practice/algorithms/greedy/basics-of-greedy-algorithms/tutorial/\n",
        "\n",
        "https://www.google.com/url?sa=t&rct=j&q=&esrc=s&source=web&cd=&ved=2ahUKEwif7tymosuBAxXRkIkEHb3KDUEQFnoECA0QAQ&url=https%3A%2F%2Fskerritt.blog%2Fgreedy-algorithms%2F&usg=AOvVaw00kr-lLjngTslcUgOQhBQn&opi=89978449\n",
        "\n",
        "https://www.codesdope.com/course/algorithms-greedy-algorithm/\n",
        "\n",
        "https://stackoverflow.com/questions/61126209/python-sorted-function-key-lambda-index-out-of-range-error\n",
        "\n",
        "https://machinelearningmastery.com/precision-recall-and-f-measure-for-imbalanced-classification/#:~:text=We%20can%20calculate%20the%20recall,Recall%20%3D%200.95\n",
        "\n",
        "https://www.analyticsvidhya.com/blog/2020/09/precision-recall-machine-learning/\n",
        "\n",
        "https://www.activestate.com/resources/quick-reads/how-to-display-a-plot-in-python/\n",
        "\n",
        "https://www.tutorialspoint.com/design_and_analysis_of_algorithms/design_and_analysis_of_algorithms_travelling_salesman_problem.html\n",
        "\n",
        "https://medium.com/@srosamazaid/the-greedy-algorithm-pattern-an-in-depth-analysis-7bb28d5dbfa7\n",
        "\n",
        "https://www.geeksforgeeks.org/simulated-annealing/\n",
        "\n",
        "https://www.aiforanyone.org/glossary/simulated-annealing#:~:text=using%20simulated%20annealing%3F-,Simulated%20annealing%20is%20a%20technique%20used%20in%20AI%20to%20find,or%20the%20most%20optimal%20solution.\n",
        "\n",
        "https://www.mathworks.com/help/gads/what-is-the-genetic-algorithm.html#\n",
        "\n",
        "https://chat.openai.com/\n",
        "\n",
        "http://www.ibpsa.org/proceedings/BS2015/p2514.pdf\n"
      ]
    }
  ],
  "metadata": {
    "colab": {
      "provenance": [],
      "include_colab_link": true
    },
    "kernelspec": {
      "display_name": "Python 3",
      "language": "python",
      "name": "python3"
    },
    "language_info": {
      "codemirror_mode": {
        "name": "ipython",
        "version": 3
      },
      "file_extension": ".py",
      "mimetype": "text/x-python",
      "name": "python",
      "nbconvert_exporter": "python",
      "pygments_lexer": "ipython3",
      "version": "3.9.10"
    }
  },
  "nbformat": 4,
  "nbformat_minor": 0
}